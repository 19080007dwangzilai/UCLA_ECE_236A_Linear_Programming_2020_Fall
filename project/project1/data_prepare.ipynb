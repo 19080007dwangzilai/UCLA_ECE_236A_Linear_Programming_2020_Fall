{
 "cells": [
  {
   "cell_type": "code",
   "execution_count": 2,
   "metadata": {},
   "outputs": [],
   "source": [
    "import matplotlib.pyplot as plt\n",
    "import numpy as np\n",
    "import cvxpy as cvx"
   ]
  },
  {
   "cell_type": "code",
   "execution_count": 3,
   "metadata": {},
   "outputs": [],
   "source": [
    "def select_class(image, label, class_list=[1, 7]):\n",
    "    '''\n",
    "    inputs:\n",
    "    image: 2-dim numpy array, (60000 x 784)\n",
    "    label: 2-dim numpy array, (60000 x 10)\n",
    "    class_list: a list contains the class that we want to select \n",
    "    ex. if we want \"1\" and \"7\", class_list = [1, 7]\n",
    "    \n",
    "    outputs:\n",
    "    selected_image: 2-dim numpy array (# examples x 784)\n",
    "    selected_label: 2-dim numpy array (# examples x 784)\n",
    "    \n",
    "    '''\n",
    "    selected_image = []\n",
    "    selected_label = []\n",
    "    m = image.shape[0]\n",
    "    for i in range(m):\n",
    "        for cls in class_list:\n",
    "            if label[i][cls] == 1:\n",
    "                selected_image.append(image[i])\n",
    "                selected_label.append(label[i])\n",
    "                break     \n",
    "    return np.array(selected_image), np.array(selected_label)\n",
    "\n",
    "def apply_erasure(image, label, p=0.6):\n",
    "    '''\n",
    "    inputs:\n",
    "    image: 2-dim training example, has shape (#examples x 784)\n",
    "    label: 2-dim label, has shape (#examples x 784)\n",
    "    p: erasure ratio\n",
    "    \n",
    "    outputs:\n",
    "    erased_image: has same shape with the original image\n",
    "    label: just copy original label\n",
    "    \n",
    "    '''\n",
    "    size = image.shape\n",
    "    random_mat = np.random.uniform(low=0, high=1, size=size)\n",
    "    cond = np.less(random_mat, 1-p)\n",
    "    erased_image = np.where(cond, image, 0)\n",
    "    return erased_image, label"
   ]
  },
  {
   "cell_type": "code",
   "execution_count": 4,
   "metadata": {},
   "outputs": [],
   "source": [
    "test_X = np.load(\"test_X.npy\")\n",
    "test_Y = np.load(\"test_Y.npy\")\n",
    "\n",
    "train_X = np.load(\"train_X.npy\")\n",
    "train_Y = np.load(\"train_Y.npy\")"
   ]
  },
  {
   "cell_type": "code",
   "execution_count": 5,
   "metadata": {},
   "outputs": [],
   "source": [
    "# usage"
   ]
  },
  {
   "cell_type": "code",
   "execution_count": 7,
   "metadata": {},
   "outputs": [
    {
     "name": "stdout",
     "output_type": "stream",
     "text": [
      "-- shape for training data -- \n",
      "(13007, 784)\n",
      "(13007, 10)\n",
      "-- shape for testing data -- \n",
      "(2163, 784)\n",
      "(2163, 10)\n"
     ]
    },
    {
     "data": {
      "text/plain": [
       "<matplotlib.image.AxesImage at 0x20c423352e8>"
      ]
     },
     "execution_count": 7,
     "metadata": {},
     "output_type": "execute_result"
    },
    {
     "data": {
      "image/png": "[encoded data removed]",
      "text/plain": [
       "<Figure size 432x288 with 1 Axes>"
      ]
     },
     "metadata": {},
     "output_type": "display_data"
    }
   ],
   "source": [
    "class_list = [1, 7]\n",
    "train_X_17, train_Y_17 = select_class(train_X, train_Y, class_list)\n",
    "print(\"-- shape for training data -- \")\n",
    "print(train_X_17.shape)\n",
    "print(train_Y_17.shape)\n",
    "\n",
    "test_X_17, test_Y_17 = select_class(test_X, test_Y, class_list)\n",
    "print(\"-- shape for testing data -- \")\n",
    "print(test_X_17.shape)\n",
    "print(test_Y_17.shape)\n",
    "\n",
    "img = train_X_17[9].reshape(28, 28)\n",
    "plt.imshow(img)"
   ]
  },
  {
   "cell_type": "code",
   "execution_count": 9,
   "metadata": {},
   "outputs": [
    {
     "name": "stdout",
     "output_type": "stream",
     "text": [
      "-- shape for erased training data -- \n",
      "(13007, 784)\n",
      "(13007, 10)\n"
     ]
    }
   ],
   "source": [
    "erased_train_X, train_Y = apply_erasure(train_X_17, train_Y_17, 0.6)\n",
    "print(\"-- shape for erased training data -- \")\n",
    "print(erased_train_X.shape)\n",
    "print(train_Y.shape)"
   ]
  },
  {
   "cell_type": "code",
   "execution_count": 10,
   "metadata": {},
   "outputs": [
    {
     "data": {
      "text/plain": [
       "<matplotlib.image.AxesImage at 0x20c47227240>"
      ]
     },
     "execution_count": 10,
     "metadata": {},
     "output_type": "execute_result"
    },
    {
     "data": {
      "image/png": "[encoded data removed]",
      "text/plain": [
       "<Figure size 432x288 with 1 Axes>"
      ]
     },
     "metadata": {},
     "output_type": "display_data"
    }
   ],
   "source": [
    "img = erased_train_X[9].reshape(28, 28)\n",
    "plt.imshow(img)"
   ]
  },
  {
   "cell_type": "code",
   "execution_count": null,
   "metadata": {},
   "outputs": [],
   "source": []
  }
 ],
 "metadata": {
  "kernelspec": {
   "display_name": "Python 3",
   "language": "python",
   "name": "python3"
  },
  "language_info": {
   "codemirror_mode": {
    "name": "ipython",
    "version": 3
   },
   "file_extension": ".py",
   "mimetype": "text/x-python",
   "name": "python",
   "nbconvert_exporter": "python",
   "pygments_lexer": "ipython3",
   "version": "3.6.5"
  }
 },
 "nbformat": 4,
 "nbformat_minor": 2
}
